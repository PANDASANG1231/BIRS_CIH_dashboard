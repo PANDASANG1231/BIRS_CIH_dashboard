{
 "cells": [
  {
   "cell_type": "code",
   "execution_count": 134,
   "id": "403548eb-a84c-495a-8816-5defbfcc35b0",
   "metadata": {},
   "outputs": [],
   "source": [
    "import pandas as pd\n",
    "import numpy as np"
   ]
  },
  {
   "cell_type": "code",
   "execution_count": 135,
   "id": "67c70476-31a8-4148-882f-c8b8aad643c9",
   "metadata": {},
   "outputs": [],
   "source": [
    "D_Legislator=pd.read_excel(\"division-legislator.xlsx\")\n",
    "F_Legislator=pd.read_excel(\"federal_legislator.xlsx\")\n",
    "D_Legislation=pd.read_excel(\"division-legislation.xlsx\")\n",
    "F_Legistlation=pd.read_excel(\"federal-legislation.xlsx\")"
   ]
  },
  {
   "cell_type": "code",
   "execution_count": 136,
   "id": "46049a30-1ed3-40b9-ad0f-fd00f63a1810",
   "metadata": {},
   "outputs": [
    {
     "data": {
      "text/plain": [
       "Index(['Unnamed: 0', 'goverlytics_id', 'source_id', 'most_recent_term_id',\n",
       "       'date_collected', 'source_url', 'name_full', 'name_last', 'name_first',\n",
       "       'name_middle', 'name_suffix', 'country_id', 'country', 'party_id',\n",
       "       'party', 'role', 'years_active', 'committees', 'phone_numbers',\n",
       "       'addresses', 'email', 'birthday', 'seniority', 'occupation',\n",
       "       'education', 'military_experience', 'gender', 'wiki_url', 'is_active',\n",
       "       'province_territory_id', 'province_territory', 'region', 'riding'],\n",
       "      dtype='object')"
      ]
     },
     "execution_count": 136,
     "metadata": {},
     "output_type": "execute_result"
    }
   ],
   "source": [
    "D_Legislator.columns"
   ]
  },
  {
   "cell_type": "markdown",
   "id": "4d1baabf-712a-440c-bfb3-b6a2822a378a",
   "metadata": {},
   "source": [
    "legislatoF_Legislatorrs = [\"name_last\", \"name_first\", \"party\", \"riding\", \"province_territory\", \"region\", \"gender\", \"years_active\", \"seniority\", \"role\", \"education\"]"
   ]
  },
  {
   "cell_type": "code",
   "execution_count": 137,
   "id": "813a9612-283d-4dbf-83ae-bc193e7bfb3b",
   "metadata": {},
   "outputs": [
    {
     "data": {
      "text/plain": [
       "Index(['Unnamed: 0', 'goverlytics_id', 'source_id', 'most_recent_term_id',\n",
       "       'date_collected', 'source_url', 'name_full', 'name_last', 'name_first',\n",
       "       'name_middle', 'name_suffix', 'country_id', 'country', 'party_id',\n",
       "       'party', 'role', 'years_active', 'committees', 'phone_numbers',\n",
       "       'addresses', 'email', 'birthday', 'seniority', 'occupation',\n",
       "       'education', 'military_experience', 'gender', 'wiki_url', 'is_active',\n",
       "       'province_territory_id', 'province_territory', 'region', 'riding',\n",
       "       'offices_roles_as_mp', 'parl_assoc_interparl_groups'],\n",
       "      dtype='object')"
      ]
     },
     "execution_count": 137,
     "metadata": {},
     "output_type": "execute_result"
    }
   ],
   "source": [
    "F_Legislator.columns"
   ]
  },
  {
   "cell_type": "code",
   "execution_count": 146,
   "id": "d4a06c4a-c11d-4e70-a155-e2380b8043a1",
   "metadata": {},
   "outputs": [],
   "source": [
    "D_Legislator=D_Legislator[[\"name_last\",\"name_first\",\"party\",\"riding\",\n",
    "             \"province_territory\",\"region\",\"gender\",\"years_active\",\n",
    "            \"seniority\",\"role\"]]"
   ]
  },
  {
   "cell_type": "code",
   "execution_count": 147,
   "id": "4d1e018b-2d38-471d-b1d9-ee7a4772f8f5",
   "metadata": {},
   "outputs": [],
   "source": [
    "F_Legislator=F_Legislator[[\"name_last\",\"name_first\",\"party\",\"riding\",\n",
    "             \"province_territory\",\"region\",\"gender\",\"years_active\",\n",
    "            \"seniority\",\"role\"]]"
   ]
  },
  {
   "cell_type": "code",
   "execution_count": 148,
   "id": "bde99af0-466b-408c-aace-2262ed515784",
   "metadata": {},
   "outputs": [],
   "source": [
    "D_Legislation=D_Legislation[[\"bill_name\", \"bill_type\", \"topic\", \"current_status\", \"session\", \"date_introduced\", \n",
    "                             \"chamber_origin\", \"committees\", \"votes\", \"bill_text\"]]"
   ]
  },
  {
   "cell_type": "code",
   "execution_count": 149,
   "id": "31ab1a46-583b-4ad0-b548-a7f198be8aa5",
   "metadata": {},
   "outputs": [
    {
     "ename": "TypeError",
     "evalue": "list indices must be integers or slices, not list",
     "output_type": "error",
     "traceback": [
      "\u001b[0;31m---------------------------------------------------------------------------\u001b[0m",
      "\u001b[0;31mTypeError\u001b[0m                                 Traceback (most recent call last)",
      "\u001b[0;32m<ipython-input-149-2b06eb867cf9>\u001b[0m in \u001b[0;36m<module>\u001b[0;34m\u001b[0m\n\u001b[0;32m----> 1\u001b[0;31m F_Legistlation = F_Legistlation[[\"bill_name\", \"bill_type\", \"topic\", \"province_territory\", \"region\", \n\u001b[0m\u001b[1;32m      2\u001b[0m                   \u001b[0;34m\"current_status\"\u001b[0m\u001b[0;34m,\u001b[0m \u001b[0;34m\"session\"\u001b[0m\u001b[0;34m,\u001b[0m \u001b[0;34m\"date_introduced\"\u001b[0m\u001b[0;34m,\u001b[0m \u001b[0;34m\"chamber_origin\"\u001b[0m\u001b[0;34m,\u001b[0m\u001b[0;34m\u001b[0m\u001b[0;34m\u001b[0m\u001b[0m\n\u001b[1;32m      3\u001b[0m                   \u001b[0;34m\"committees\"\u001b[0m\u001b[0;34m,\u001b[0m \u001b[0;34m\"principal_sponsor\"\u001b[0m\u001b[0;34m,\u001b[0m \u001b[0;34m\"sponsor_affiliation\"\u001b[0m\u001b[0;34m,\u001b[0m \u001b[0;34m\"sponsor_gender\"\u001b[0m\u001b[0;34m,\u001b[0m\u001b[0;34m\u001b[0m\u001b[0;34m\u001b[0m\u001b[0m\n\u001b[1;32m      4\u001b[0m                   \"votes\", \"pm_name_full\", \"pm_party\", \"bill_text\"]]\n",
      "\u001b[0;31mTypeError\u001b[0m: list indices must be integers or slices, not list"
     ]
    }
   ],
   "source": [
    "F_Legistlation = F_Legistlation[[\"bill_name\", \"bill_type\", \"topic\", \"province_territory\", \"region\", \n",
    "                  \"current_status\", \"session\", \"date_introduced\", \"chamber_origin\", \n",
    "                  \"committees\", \"principal_sponsor\", \"sponsor_affiliation\", \"sponsor_gender\", \n",
    "                  \"votes\", \"pm_name_full\", \"pm_party\", \"bill_text\"]]"
   ]
  },
  {
   "cell_type": "code",
   "execution_count": 142,
   "id": "8f4d4c94-f31e-4809-87a2-cae3cc3e6958",
   "metadata": {},
   "outputs": [],
   "source": [
    "D_Legislator[\"years_active\"]=D_Legislator[\"years_active\"].apply(lambda x: x[1:-1].split(','))\n",
    "D_Legislator[\"years_active\"]=D_Legislator[\"years_active\"].apply(lambda x: len(x))\n",
    "F_Legislator[\"years_active\"]=F_Legislator[\"years_active\"].apply(lambda x: x[1:-1].split(','))\n",
    "F_Legislator[\"years_active\"]=F_Legislator[\"years_active\"].apply(lambda x: len(x))"
   ]
  },
  {
   "cell_type": "code",
   "execution_count": 131,
   "id": "7cce2643-0e35-4af5-b407-ca33ab804e19",
   "metadata": {},
   "outputs": [
    {
     "name": "stdout",
     "output_type": "stream",
     "text": [
      "name_last             0.000000\n",
      "name_first            0.000000\n",
      "party                 0.000000\n",
      "riding                0.000000\n",
      "province_territory    0.000000\n",
      "region                1.149425\n",
      "gender                1.149425\n",
      "years_active          0.000000\n",
      "seniority             0.000000\n",
      "role                  0.000000\n",
      "dtype: float64\n"
     ]
    }
   ],
   "source": [
    "print(D_Legislator.isnull().sum()/len(cleaneddf)*100)"
   ]
  },
  {
   "cell_type": "code",
   "execution_count": 96,
   "id": "882cbb67-bbf6-44ec-a656-920c6f6ea7c7",
   "metadata": {},
   "outputs": [
    {
     "name": "stdout",
     "output_type": "stream",
     "text": [
      "name_last              0.000000\n",
      "name_first             0.000000\n",
      "party                  0.000000\n",
      "riding                20.328542\n",
      "province_territory     0.000000\n",
      "region                 0.000000\n",
      "gender                 1.232033\n",
      "years_active           0.000000\n",
      "seniority              0.000000\n",
      "role                   0.000000\n",
      "dtype: float64\n"
     ]
    }
   ],
   "source": [
    "print(cleaneddf2.isnull().sum()/len(cleaneddf2)*100)"
   ]
  },
  {
   "cell_type": "code",
   "execution_count": 143,
   "id": "2f4008ab-50ac-4a5b-ac2d-e38d68c4c972",
   "metadata": {},
   "outputs": [
    {
     "ename": "AttributeError",
     "evalue": "'list' object has no attribute 'to_excel'",
     "output_type": "error",
     "traceback": [
      "\u001b[0;31m---------------------------------------------------------------------------\u001b[0m",
      "\u001b[0;31mAttributeError\u001b[0m                            Traceback (most recent call last)",
      "\u001b[0;32m<ipython-input-143-5e2eaf7019d8>\u001b[0m in \u001b[0;36m<module>\u001b[0;34m\u001b[0m\n\u001b[1;32m      2\u001b[0m \u001b[0mF_Legislator\u001b[0m\u001b[0;34m.\u001b[0m\u001b[0mto_excel\u001b[0m\u001b[0;34m(\u001b[0m\u001b[0;34m\"Federal_legislator_clean.xlsx\"\u001b[0m\u001b[0;34m)\u001b[0m\u001b[0;34m\u001b[0m\u001b[0;34m\u001b[0m\u001b[0m\n\u001b[1;32m      3\u001b[0m \u001b[0mD_Legislation\u001b[0m\u001b[0;34m.\u001b[0m\u001b[0mto_excel\u001b[0m\u001b[0;34m(\u001b[0m\u001b[0;34m\"Division_legislation_clean.xlsx\"\u001b[0m\u001b[0;34m)\u001b[0m\u001b[0;34m\u001b[0m\u001b[0;34m\u001b[0m\u001b[0m\n\u001b[0;32m----> 4\u001b[0;31m \u001b[0mF_Legistlation\u001b[0m\u001b[0;34m.\u001b[0m\u001b[0mto_excel\u001b[0m\u001b[0;34m(\u001b[0m\u001b[0;34m\"Federal_legislation_clean.xlsx\"\u001b[0m\u001b[0;34m)\u001b[0m\u001b[0;34m\u001b[0m\u001b[0;34m\u001b[0m\u001b[0m\n\u001b[0m",
      "\u001b[0;31mAttributeError\u001b[0m: 'list' object has no attribute 'to_excel'"
     ]
    }
   ],
   "source": [
    "D_Legislator.to_excel(\"Division_legislator_clean.xlsx\")\n",
    "F_Legislator.to_excel(\"Federal_legislator_clean.xlsx\")\n",
    "D_Legislation.to_excel(\"Division_legislation_clean.xlsx\")\n",
    "F_Legistlation.to_excel(\"Federal_legislation_clean.xlsx\")"
   ]
  },
  {
   "cell_type": "code",
   "execution_count": 144,
   "id": "082de93b-e625-4aff-a0b3-a9133f511072",
   "metadata": {},
   "outputs": [
    {
     "data": {
      "text/plain": [
       "[['bill_name',\n",
       "  'bill_type',\n",
       "  'topic',\n",
       "  'province_territory',\n",
       "  'region',\n",
       "  'current_status',\n",
       "  'session',\n",
       "  'date_introduced',\n",
       "  'chamber_origin',\n",
       "  'committees',\n",
       "  'principal_sponsor',\n",
       "  'sponsor_affiliation',\n",
       "  'sponsor_gender',\n",
       "  'votes',\n",
       "  'pm_name_full',\n",
       "  'pm_party',\n",
       "  'bill_text']]"
      ]
     },
     "execution_count": 144,
     "metadata": {},
     "output_type": "execute_result"
    }
   ],
   "source": [
    "F_Legistlation"
   ]
  },
  {
   "cell_type": "code",
   "execution_count": null,
   "id": "f66d6aa3-0147-4f1e-a123-ab883ff023c6",
   "metadata": {},
   "outputs": [],
   "source": []
  }
 ],
 "metadata": {
  "kernelspec": {
   "display_name": "Python 3",
   "language": "python",
   "name": "python3"
  },
  "language_info": {
   "codemirror_mode": {
    "name": "ipython",
    "version": 3
   },
   "file_extension": ".py",
   "mimetype": "text/x-python",
   "name": "python",
   "nbconvert_exporter": "python",
   "pygments_lexer": "ipython3",
   "version": "3.9.5"
  }
 },
 "nbformat": 4,
 "nbformat_minor": 5
}
