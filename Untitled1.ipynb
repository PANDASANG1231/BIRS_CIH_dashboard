{
 "cells": [
  {
   "cell_type": "code",
   "execution_count": 186,
   "id": "403548eb-a84c-495a-8816-5defbfcc35b0",
   "metadata": {},
   "outputs": [],
   "source": [
    "import pandas as pd\n",
    "import numpy as np"
   ]
  },
  {
   "cell_type": "code",
   "execution_count": 187,
   "id": "67c70476-31a8-4148-882f-c8b8aad643c9",
   "metadata": {},
   "outputs": [],
   "source": [
    "D_Legislator=pd.read_excel(\"division-legislator.xlsx\")\n",
    "F_Legislator=pd.read_excel(\"federal_legislator.xlsx\")\n",
    "D_Legislation=pd.read_excel(\"division-legislation.xlsx\")\n",
    "F_Legistlation=pd.read_excel(\"federal-legislation.xlsx\")"
   ]
  },
  {
   "cell_type": "code",
   "execution_count": 188,
   "id": "d4a06c4a-c11d-4e70-a155-e2380b8043a1",
   "metadata": {},
   "outputs": [],
   "source": [
    "D_Legislator=D_Legislator[[\"name_last\",\"name_first\",\"party\",\"riding\",\n",
    "             \"province_territory\",\"region\",\"gender\",\"years_active\",\n",
    "            \"seniority\",\"role\"]]"
   ]
  },
  {
   "cell_type": "code",
   "execution_count": 189,
   "id": "4d1e018b-2d38-471d-b1d9-ee7a4772f8f5",
   "metadata": {},
   "outputs": [],
   "source": [
    "F_Legislator=F_Legislator[[\"name_last\",\"name_first\",\"party\",\"riding\",\n",
    "             \"province_territory\",\"region\",\"gender\",\"years_active\",\n",
    "            \"seniority\",\"role\"]]"
   ]
  },
  {
   "cell_type": "code",
   "execution_count": 190,
   "id": "bde99af0-466b-408c-aace-2262ed515784",
   "metadata": {},
   "outputs": [],
   "source": [
    "D_Legislation=D_Legislation[[\"bill_name\", \"bill_type\", \"topic\", \"current_status\", \"session\", \"date_introduced\", \n",
    "                             \"chamber_origin\", \"committees\", \"votes\", \"bill_text\"]]"
   ]
  },
  {
   "cell_type": "code",
   "execution_count": 191,
   "id": "31ab1a46-583b-4ad0-b548-a7f198be8aa5",
   "metadata": {},
   "outputs": [],
   "source": [
    "F_Legistlation = F_Legistlation[[\"bill_name\", \"bill_type\", \"topic\", \"province_territory\", \"region\", \n",
    "                  \"current_status\", \"session\", \"date_introduced\", \"chamber_origin\", \n",
    "                  \"committees\", \"principal_sponsor\", \"sponsor_affiliation\", \"sponsor_gender\", \n",
    "                  \"votes\", \"pm_name_full\", \"pm_party\", \"bill_text\"]]"
   ]
  },
  {
   "cell_type": "code",
   "execution_count": 192,
   "id": "8f4d4c94-f31e-4809-87a2-cae3cc3e6958",
   "metadata": {},
   "outputs": [],
   "source": [
    "D_Legislator[\"years_active\"]=D_Legislator[\"years_active\"].apply(lambda x: x[1:-1].split(','))\n",
    "D_Legislator[\"years_active\"]=D_Legislator[\"years_active\"].apply(lambda x: len(x))\n",
    "F_Legislator[\"years_active\"]=F_Legislator[\"years_active\"].apply(lambda x: x[1:-1].split(','))\n",
    "F_Legislator[\"years_active\"]=F_Legislator[\"years_active\"].apply(lambda x: len(x))"
   ]
  },
  {
   "cell_type": "code",
   "execution_count": 193,
   "id": "7cce2643-0e35-4af5-b407-ca33ab804e19",
   "metadata": {},
   "outputs": [
    {
     "name": "stdout",
     "output_type": "stream",
     "text": [
      "name_last             0.000000\n",
      "name_first            0.000000\n",
      "party                 0.000000\n",
      "riding                0.000000\n",
      "province_territory    0.000000\n",
      "region                1.149425\n",
      "gender                1.149425\n",
      "years_active          0.000000\n",
      "seniority             0.000000\n",
      "role                  0.000000\n",
      "dtype: float64\n"
     ]
    }
   ],
   "source": [
    "print(D_Legislator.isnull().sum()/len(D_Legislator)*100)"
   ]
  },
  {
   "cell_type": "code",
   "execution_count": 194,
   "id": "882cbb67-bbf6-44ec-a656-920c6f6ea7c7",
   "metadata": {},
   "outputs": [
    {
     "name": "stdout",
     "output_type": "stream",
     "text": [
      "name_last              0.000000\n",
      "name_first             0.000000\n",
      "party                  0.000000\n",
      "riding                20.328542\n",
      "province_territory     0.000000\n",
      "region                 0.000000\n",
      "gender                 1.232033\n",
      "years_active           0.000000\n",
      "seniority              0.000000\n",
      "role                   0.000000\n",
      "dtype: float64\n"
     ]
    }
   ],
   "source": [
    "print(F_Legislator.isnull().sum()/len(F_Legislator)*100)"
   ]
  },
  {
   "cell_type": "code",
   "execution_count": 195,
   "id": "80ff0d0c-731d-480b-a9f7-98f67a9c4fc6",
   "metadata": {},
   "outputs": [
    {
     "name": "stdout",
     "output_type": "stream",
     "text": [
      "bill_name           4.329004\n",
      "bill_type          33.852814\n",
      "topic              49.350649\n",
      "current_status     12.987013\n",
      "session             0.000000\n",
      "date_introduced     0.000000\n",
      "chamber_origin     36.796537\n",
      "committees         56.363636\n",
      "votes              91.082251\n",
      "bill_text           1.125541\n",
      "dtype: float64\n"
     ]
    }
   ],
   "source": [
    "print(D_Legislation.isnull().sum()/len(D_Legislation)*100)"
   ]
  },
  {
   "cell_type": "code",
   "execution_count": 197,
   "id": "3b772c00-2e0e-40f8-b8f3-5df0fa7e16a0",
   "metadata": {},
   "outputs": [
    {
     "name": "stdout",
     "output_type": "stream",
     "text": [
      "bill_name               0.000000\n",
      "bill_type               0.000000\n",
      "topic                   1.666667\n",
      "province_territory      0.000000\n",
      "region                  0.000000\n",
      "current_status          0.000000\n",
      "session                 0.000000\n",
      "date_introduced         0.000000\n",
      "chamber_origin          0.000000\n",
      "committees             75.666667\n",
      "principal_sponsor       0.000000\n",
      "sponsor_affiliation     0.000000\n",
      "sponsor_gender          0.000000\n",
      "votes                  79.666667\n",
      "pm_name_full            0.000000\n",
      "pm_party                0.000000\n",
      "bill_text               1.666667\n",
      "dtype: float64\n"
     ]
    }
   ],
   "source": [
    "print(F_Legistlation.isnull().sum()/len(F_Legistlation)*100)"
   ]
  },
  {
   "cell_type": "code",
   "execution_count": 183,
   "id": "2f4008ab-50ac-4a5b-ac2d-e38d68c4c972",
   "metadata": {},
   "outputs": [],
   "source": [
    "D_Legislator.to_excel(\"Division_legislator_clean.xlsx\")\n",
    "F_Legislator.to_excel(\"Federal_legislator_clean.xlsx\")\n",
    "D_Legislation.to_excel(\"Division_legislation_clean.xlsx\")\n",
    "F_Legistlation.to_excel(\"Federal_legislation_clean.xlsx\")"
   ]
  },
  {
   "cell_type": "code",
   "execution_count": null,
   "id": "f66d6aa3-0147-4f1e-a123-ab883ff023c6",
   "metadata": {},
   "outputs": [],
   "source": []
  },
  {
   "cell_type": "code",
   "execution_count": 200,
   "id": "8f800d22-8436-44fb-90b8-b57c366ea5b0",
   "metadata": {},
   "outputs": [
    {
     "data": {
      "text/html": [
       "<div>\n",
       "<style scoped>\n",
       "    .dataframe tbody tr th:only-of-type {\n",
       "        vertical-align: middle;\n",
       "    }\n",
       "\n",
       "    .dataframe tbody tr th {\n",
       "        vertical-align: top;\n",
       "    }\n",
       "\n",
       "    .dataframe thead th {\n",
       "        text-align: right;\n",
       "    }\n",
       "</style>\n",
       "<table border=\"1\" class=\"dataframe\">\n",
       "  <thead>\n",
       "    <tr style=\"text-align: right;\">\n",
       "      <th></th>\n",
       "      <th>gender</th>\n",
       "      <th>province_territory</th>\n",
       "      <th>years_active</th>\n",
       "      <th>seniority</th>\n",
       "    </tr>\n",
       "  </thead>\n",
       "  <tbody>\n",
       "    <tr>\n",
       "      <th>0</th>\n",
       "      <td>F</td>\n",
       "      <td>AB</td>\n",
       "      <td>1638</td>\n",
       "      <td>0</td>\n",
       "    </tr>\n",
       "    <tr>\n",
       "      <th>1</th>\n",
       "      <td>M</td>\n",
       "      <td>AB</td>\n",
       "      <td>3939</td>\n",
       "      <td>0</td>\n",
       "    </tr>\n",
       "  </tbody>\n",
       "</table>\n",
       "</div>"
      ],
      "text/plain": [
       "  gender province_territory  years_active  seniority\n",
       "0      F                 AB          1638          0\n",
       "1      M                 AB          3939          0"
      ]
     },
     "execution_count": 200,
     "metadata": {},
     "output_type": "execute_result"
    }
   ],
   "source": [
    "D_Legislator.groupby([\"gender\",\"province_territory\"]).sum().reset_index()"
   ]
  },
  {
   "cell_type": "code",
   "execution_count": 204,
   "id": "4b1f7077-f8c5-4815-b6a1-2245592b14f0",
   "metadata": {},
   "outputs": [
    {
     "data": {
      "text/plain": [
       "AB    1131\n",
       "Name: province_territory, dtype: int64"
      ]
     },
     "execution_count": 204,
     "metadata": {},
     "output_type": "execute_result"
    }
   ],
   "source": [
    "D_Legislator[\"province_territory\"].value_counts()"
   ]
  },
  {
   "cell_type": "code",
   "execution_count": null,
   "id": "280d65ce-7959-4dfb-83b2-482c191fed4c",
   "metadata": {},
   "outputs": [],
   "source": []
  }
 ],
 "metadata": {
  "kernelspec": {
   "display_name": "Python 3",
   "language": "python",
   "name": "python3"
  },
  "language_info": {
   "codemirror_mode": {
    "name": "ipython",
    "version": 3
   },
   "file_extension": ".py",
   "mimetype": "text/x-python",
   "name": "python",
   "nbconvert_exporter": "python",
   "pygments_lexer": "ipython3",
   "version": "3.9.5"
  }
 },
 "nbformat": 4,
 "nbformat_minor": 5
}
